{
 "cells": [
  {
   "cell_type": "code",
   "execution_count": 1,
   "id": "18f5d875-0e09-49ae-a942-1b530f69993e",
   "metadata": {},
   "outputs": [],
   "source": [
    "import pandas as pd \n",
    "import seaborn as sns\n",
    "import matplotlib.pyplot as plt\n",
    "import numpy as np\n",
    "from sklearn.preprocessing import OneHotEncoder, StandardScaler, MinMaxScaler \n",
    "from sklearn.model_selection import GridSearchCV, train_test_split, KFold, cross_val_score\n",
    "from sklearn.linear_model import LinearRegression\n",
    "from sklearn.metrics import r2_score, mean_squared_error, accuracy_score, mean_absolute_error, mean_squared_error\n",
    "from sklearn.ensemble import GradientBoostingRegressor\n",
    "from sklearn.neural_network import MLPRegressor\n",
    "from sklearn.svm import SVR\n",
    "from sklearn.neighbors import KNeighborsRegressor\n",
    "from sklearn.cross_decomposition import PLSRegression\n",
    "from sklearn.tree import DecisionTreeRegressor\n",
    "import missingno as msno\n",
    "from sklearn.utils import shuffle \n",
    "from category_encoders import TargetEncoder, OneHotEncoder\n",
    "import warnings\n",
    "warnings.filterwarnings(\"ignore\")\n",
    "sns.set(rc = {'figure.figsize': (20, 20)})\n",
    "%matplotlib inline "
   ]
  },
  {
   "cell_type": "code",
   "execution_count": 7,
   "id": "bdb2492a-7fb7-4832-987c-67edf57bdcbe",
   "metadata": {},
   "outputs": [
    {
     "data": {
      "text/plain": [
       "array(['Diesel', 'Essence', 'Hybride essence électrique', 'Electrique',\n",
       "       'Bicarburation essence bioéthanol', 'Hybride diesel électrique'],\n",
       "      dtype=object)"
      ]
     },
     "execution_count": 7,
     "metadata": {},
     "output_type": "execute_result"
    }
   ],
   "source": [
    "df = pd.read_json(\"cars_info.json\")\n",
    "df = df.dropna()\n",
    "df[\"energy\"].unique()"
   ]
  },
  {
   "cell_type": "code",
   "execution_count": 8,
   "id": "dcf090bd-b4ce-431b-a779-e3d3368101e5",
   "metadata": {},
   "outputs": [],
   "source": [
    "# Prétraitement\n",
    "df['Prix'] = df['Prix'].astype(int)\n",
    "df['year'] = df['year'].astype(int)\n",
    "df['origin'] = df['origin'].replace({'Importé': 1, 'France': 0})\n",
    "df['firstHand'] = df['firstHand'].replace({'Oui': 1, 'Non': 0})\n",
    "df['mileage'] = df['mileage'].str.extract('(\\d+)').astype(int) \n",
    "df['gearbox'] = df['gearbox'].replace({'Automatique': 1, 'Manuelle': 0})\n",
    "df['ratedHorsePower'] = df['ratedHorsePower'].str.extract('(\\d+)').astype(int)\n",
    "df['powerDIN'] = df['powerDIN'].str.extract('(\\d+)').astype(int)\n",
    "df['doors'] = df['doors'].astype(int)\n",
    "df['co2'] = df['co2'].str.extract('(\\d+)').astype(int) \n",
    "df['critAir'] = df['critAir'].str.extract('(\\d+)').astype(int) \n",
    "df['energy'] = df['energy'].replace({'Diesel' : 0,'Essence' : 1,'Hybride essence électrique' : 2,'Electrique' : 3,'Bicarburation essence bioéthanol' : 4,'Hybride diesel électrique' : 5})\n",
    "df = df.drop([\"firstCirculationDate\", \"externalColor\"], axis=1)"
   ]
  },
  {
   "cell_type": "code",
   "execution_count": 9,
   "id": "bad0bbe5-1de9-46f5-9e1e-f11fd4c6132a",
   "metadata": {},
   "outputs": [
    {
     "data": {
      "text/plain": [
       "array([0, 1, 2, 3, 4, 5])"
      ]
     },
     "execution_count": 9,
     "metadata": {},
     "output_type": "execute_result"
    }
   ],
   "source": [
    "df[\"energy\"].unique()"
   ]
  },
  {
   "cell_type": "code",
   "execution_count": 10,
   "id": "ab991c4e-fca4-450a-ab62-516b9e02b7cb",
   "metadata": {},
   "outputs": [
    {
     "data": {
      "text/html": [
       "<div>\n",
       "<style scoped>\n",
       "    .dataframe tbody tr th:only-of-type {\n",
       "        vertical-align: middle;\n",
       "    }\n",
       "\n",
       "    .dataframe tbody tr th {\n",
       "        vertical-align: top;\n",
       "    }\n",
       "\n",
       "    .dataframe thead th {\n",
       "        text-align: right;\n",
       "    }\n",
       "</style>\n",
       "<table border=\"1\" class=\"dataframe\">\n",
       "  <thead>\n",
       "    <tr style=\"text-align: right;\">\n",
       "      <th></th>\n",
       "      <th>Prix</th>\n",
       "      <th>year</th>\n",
       "      <th>origin</th>\n",
       "      <th>firstHand</th>\n",
       "      <th>mileage</th>\n",
       "      <th>energy</th>\n",
       "      <th>gearbox</th>\n",
       "      <th>doors</th>\n",
       "      <th>ratedHorsePower</th>\n",
       "      <th>powerDIN</th>\n",
       "      <th>critAir</th>\n",
       "      <th>co2</th>\n",
       "      <th>owners</th>\n",
       "    </tr>\n",
       "  </thead>\n",
       "  <tbody>\n",
       "    <tr>\n",
       "      <th>1</th>\n",
       "      <td>43570</td>\n",
       "      <td>2022</td>\n",
       "      <td>1</td>\n",
       "      <td>0</td>\n",
       "      <td>20</td>\n",
       "      <td>0</td>\n",
       "      <td>1</td>\n",
       "      <td>4</td>\n",
       "      <td>10</td>\n",
       "      <td>190</td>\n",
       "      <td>2</td>\n",
       "      <td>132</td>\n",
       "      <td>2.0</td>\n",
       "    </tr>\n",
       "    <tr>\n",
       "      <th>2</th>\n",
       "      <td>26860</td>\n",
       "      <td>2019</td>\n",
       "      <td>0</td>\n",
       "      <td>0</td>\n",
       "      <td>97</td>\n",
       "      <td>0</td>\n",
       "      <td>0</td>\n",
       "      <td>4</td>\n",
       "      <td>5</td>\n",
       "      <td>125</td>\n",
       "      <td>2</td>\n",
       "      <td>159</td>\n",
       "      <td>2.0</td>\n",
       "    </tr>\n",
       "    <tr>\n",
       "      <th>4</th>\n",
       "      <td>42880</td>\n",
       "      <td>2023</td>\n",
       "      <td>0</td>\n",
       "      <td>0</td>\n",
       "      <td>22</td>\n",
       "      <td>0</td>\n",
       "      <td>1</td>\n",
       "      <td>5</td>\n",
       "      <td>7</td>\n",
       "      <td>136</td>\n",
       "      <td>2</td>\n",
       "      <td>136</td>\n",
       "      <td>1.0</td>\n",
       "    </tr>\n",
       "    <tr>\n",
       "      <th>9</th>\n",
       "      <td>23830</td>\n",
       "      <td>2021</td>\n",
       "      <td>0</td>\n",
       "      <td>0</td>\n",
       "      <td>15</td>\n",
       "      <td>1</td>\n",
       "      <td>1</td>\n",
       "      <td>5</td>\n",
       "      <td>7</td>\n",
       "      <td>131</td>\n",
       "      <td>1</td>\n",
       "      <td>141</td>\n",
       "      <td>1.0</td>\n",
       "    </tr>\n",
       "    <tr>\n",
       "      <th>17</th>\n",
       "      <td>54270</td>\n",
       "      <td>2024</td>\n",
       "      <td>0</td>\n",
       "      <td>0</td>\n",
       "      <td>18</td>\n",
       "      <td>1</td>\n",
       "      <td>1</td>\n",
       "      <td>5</td>\n",
       "      <td>8</td>\n",
       "      <td>150</td>\n",
       "      <td>1</td>\n",
       "      <td>160</td>\n",
       "      <td>1.0</td>\n",
       "    </tr>\n",
       "    <tr>\n",
       "      <th>...</th>\n",
       "      <td>...</td>\n",
       "      <td>...</td>\n",
       "      <td>...</td>\n",
       "      <td>...</td>\n",
       "      <td>...</td>\n",
       "      <td>...</td>\n",
       "      <td>...</td>\n",
       "      <td>...</td>\n",
       "      <td>...</td>\n",
       "      <td>...</td>\n",
       "      <td>...</td>\n",
       "      <td>...</td>\n",
       "      <td>...</td>\n",
       "    </tr>\n",
       "    <tr>\n",
       "      <th>1482</th>\n",
       "      <td>28440</td>\n",
       "      <td>2015</td>\n",
       "      <td>0</td>\n",
       "      <td>0</td>\n",
       "      <td>149</td>\n",
       "      <td>0</td>\n",
       "      <td>1</td>\n",
       "      <td>4</td>\n",
       "      <td>15</td>\n",
       "      <td>252</td>\n",
       "      <td>2</td>\n",
       "      <td>145</td>\n",
       "      <td>2.0</td>\n",
       "    </tr>\n",
       "    <tr>\n",
       "      <th>1489</th>\n",
       "      <td>15100</td>\n",
       "      <td>2019</td>\n",
       "      <td>0</td>\n",
       "      <td>0</td>\n",
       "      <td>106</td>\n",
       "      <td>0</td>\n",
       "      <td>0</td>\n",
       "      <td>5</td>\n",
       "      <td>5</td>\n",
       "      <td>102</td>\n",
       "      <td>2</td>\n",
       "      <td>103</td>\n",
       "      <td>2.0</td>\n",
       "    </tr>\n",
       "    <tr>\n",
       "      <th>1493</th>\n",
       "      <td>34490</td>\n",
       "      <td>2018</td>\n",
       "      <td>0</td>\n",
       "      <td>0</td>\n",
       "      <td>71</td>\n",
       "      <td>0</td>\n",
       "      <td>1</td>\n",
       "      <td>5</td>\n",
       "      <td>8</td>\n",
       "      <td>150</td>\n",
       "      <td>2</td>\n",
       "      <td>129</td>\n",
       "      <td>1.0</td>\n",
       "    </tr>\n",
       "    <tr>\n",
       "      <th>1494</th>\n",
       "      <td>25400</td>\n",
       "      <td>2023</td>\n",
       "      <td>0</td>\n",
       "      <td>0</td>\n",
       "      <td>7</td>\n",
       "      <td>0</td>\n",
       "      <td>0</td>\n",
       "      <td>5</td>\n",
       "      <td>5</td>\n",
       "      <td>102</td>\n",
       "      <td>2</td>\n",
       "      <td>106</td>\n",
       "      <td>1.0</td>\n",
       "    </tr>\n",
       "    <tr>\n",
       "      <th>1500</th>\n",
       "      <td>23190</td>\n",
       "      <td>2023</td>\n",
       "      <td>0</td>\n",
       "      <td>0</td>\n",
       "      <td>19</td>\n",
       "      <td>0</td>\n",
       "      <td>0</td>\n",
       "      <td>5</td>\n",
       "      <td>5</td>\n",
       "      <td>102</td>\n",
       "      <td>2</td>\n",
       "      <td>107</td>\n",
       "      <td>1.0</td>\n",
       "    </tr>\n",
       "  </tbody>\n",
       "</table>\n",
       "<p>504 rows × 13 columns</p>\n",
       "</div>"
      ],
      "text/plain": [
       "       Prix  year  origin  firstHand  mileage  energy  gearbox  doors  \\\n",
       "1     43570  2022       1          0       20       0        1      4   \n",
       "2     26860  2019       0          0       97       0        0      4   \n",
       "4     42880  2023       0          0       22       0        1      5   \n",
       "9     23830  2021       0          0       15       1        1      5   \n",
       "17    54270  2024       0          0       18       1        1      5   \n",
       "...     ...   ...     ...        ...      ...     ...      ...    ...   \n",
       "1482  28440  2015       0          0      149       0        1      4   \n",
       "1489  15100  2019       0          0      106       0        0      5   \n",
       "1493  34490  2018       0          0       71       0        1      5   \n",
       "1494  25400  2023       0          0        7       0        0      5   \n",
       "1500  23190  2023       0          0       19       0        0      5   \n",
       "\n",
       "      ratedHorsePower  powerDIN  critAir  co2  owners  \n",
       "1                  10       190        2  132     2.0  \n",
       "2                   5       125        2  159     2.0  \n",
       "4                   7       136        2  136     1.0  \n",
       "9                   7       131        1  141     1.0  \n",
       "17                  8       150        1  160     1.0  \n",
       "...               ...       ...      ...  ...     ...  \n",
       "1482               15       252        2  145     2.0  \n",
       "1489                5       102        2  103     2.0  \n",
       "1493                8       150        2  129     1.0  \n",
       "1494                5       102        2  106     1.0  \n",
       "1500                5       102        2  107     1.0  \n",
       "\n",
       "[504 rows x 13 columns]"
      ]
     },
     "execution_count": 10,
     "metadata": {},
     "output_type": "execute_result"
    }
   ],
   "source": [
    "df"
   ]
  },
  {
   "cell_type": "code",
   "execution_count": 11,
   "id": "6326443d-313c-4621-98c1-95cd2157a02a",
   "metadata": {},
   "outputs": [
    {
     "data": {
      "text/plain": [
       "0.05263157894736842"
      ]
     },
     "execution_count": 11,
     "metadata": {},
     "output_type": "execute_result"
    }
   ],
   "source": [
    "10/190\n"
   ]
  },
  {
   "cell_type": "code",
   "execution_count": 12,
   "id": "d769ba00-598c-4294-aa8f-44a3733b4d07",
   "metadata": {},
   "outputs": [
    {
     "data": {
      "text/plain": [
       "0.04"
      ]
     },
     "execution_count": 12,
     "metadata": {},
     "output_type": "execute_result"
    }
   ],
   "source": [
    "5/125"
   ]
  },
  {
   "cell_type": "code",
   "execution_count": 13,
   "id": "a6abd90f-2705-43c0-87f8-fa2031a432ea",
   "metadata": {},
   "outputs": [
    {
     "data": {
      "text/plain": [
       "0.05343511450381679"
      ]
     },
     "execution_count": 13,
     "metadata": {},
     "output_type": "execute_result"
    }
   ],
   "source": [
    "7/131"
   ]
  },
  {
   "cell_type": "code",
   "execution_count": 15,
   "id": "fa847cba-c5d4-4077-b6e8-ad5e09cf748c",
   "metadata": {},
   "outputs": [
    {
     "data": {
      "text/plain": [
       "0.44999999999999996"
      ]
     },
     "execution_count": 15,
     "metadata": {},
     "output_type": "execute_result"
    }
   ],
   "source": [
    "10*0.045\n"
   ]
  },
  {
   "cell_type": "code",
   "execution_count": 16,
   "id": "e023329e-d69b-4151-a9b3-d5278eab53f4",
   "metadata": {},
   "outputs": [
    {
     "data": {
      "text/plain": [
       "19.0"
      ]
     },
     "execution_count": 16,
     "metadata": {},
     "output_type": "execute_result"
    }
   ],
   "source": [
    "190/10"
   ]
  },
  {
   "cell_type": "code",
   "execution_count": 17,
   "id": "55bdfd8b-f4f8-4031-9ca2-4e54f78afdc1",
   "metadata": {},
   "outputs": [
    {
     "data": {
      "text/plain": [
       "25.0"
      ]
     },
     "execution_count": 17,
     "metadata": {},
     "output_type": "execute_result"
    }
   ],
   "source": [
    "125/5\n"
   ]
  },
  {
   "cell_type": "code",
   "execution_count": null,
   "id": "35b6dcb2-bdc1-4543-98db-af01d4a917bb",
   "metadata": {},
   "outputs": [],
   "source": []
  }
 ],
 "metadata": {
  "kernelspec": {
   "display_name": "Python 3 (ipykernel)",
   "language": "python",
   "name": "python3"
  },
  "language_info": {
   "codemirror_mode": {
    "name": "ipython",
    "version": 3
   },
   "file_extension": ".py",
   "mimetype": "text/x-python",
   "name": "python",
   "nbconvert_exporter": "python",
   "pygments_lexer": "ipython3",
   "version": "3.10.12"
  }
 },
 "nbformat": 4,
 "nbformat_minor": 5
}
