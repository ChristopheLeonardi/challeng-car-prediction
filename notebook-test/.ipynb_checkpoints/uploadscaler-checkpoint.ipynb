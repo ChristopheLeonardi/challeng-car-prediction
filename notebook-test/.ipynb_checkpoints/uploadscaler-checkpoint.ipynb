{
 "cells": [
  {
   "cell_type": "code",
   "execution_count": 12,
   "id": "42f9b6ff-fbe3-4345-9077-8a04bca225a2",
   "metadata": {},
   "outputs": [],
   "source": [
    "import pickle\n",
    "import pandas as pd \n",
    "import numpy as np\n",
    "import joblib\n",
    "from django.templatetags.static import static\n",
    "from sklearn.preprocessing import OneHotEncoder, StandardScaler, MinMaxScaler \n",
    "from sklearn.neural_network import MLPRegressor\n",
    "import os\n",
    "\n",
    "def MLP_prediction(data_dict_list):\n",
    "\n",
    "    model_url = 'rf_model.joblib'\n",
    "    loaded_model = joblib.load(model_url)\n",
    "\n",
    "    scaler_url = 'scalermm.joblib'\n",
    "    loaded_scaler = joblib.load(scaler_url)\n",
    "\n",
    "    data_dict = data_dict_list[0]\n",
    "    input_values = [data_dict['year'], data_dict['origin'], data_dict['firstHand'],\n",
    "                    data_dict['mileage'], data_dict['energy'], data_dict['gearbox'],\n",
    "                    data_dict['doors'], data_dict['ratedHorsePower'], data_dict['powerDIN'],\n",
    "                    data_dict['critAir'], data_dict['co2'], data_dict['owners']]\n",
    "\n",
    "    # Convert the values to float\n",
    "    input_data = np.array(input_values, dtype=float) \n",
    "    input_data = input_data.reshape(1, -1)\n",
    "    \n",
    "    # Transform the input data using the loaded scaler\n",
    "    scaled_input_data = loaded_scaler.transform(input_data)\n",
    "    print(scaled_input_data)\n",
    "    y_predict = loaded_model.predict(scaled_input_data)\n",
    "\n",
    "    response = {\n",
    "        \"prediction_price\" : y_predict[0]\n",
    "    }   \n",
    "    return response"
   ]
  },
  {
   "cell_type": "code",
   "execution_count": 13,
   "id": "e82367e3-31f9-4e19-a570-0fd2af169015",
   "metadata": {},
   "outputs": [
    {
     "name": "stdout",
     "output_type": "stream",
     "text": [
      "[[ 1.36812406e+04  5.48795472e+00  0.00000000e+00  1.46464437e+04\n",
      "  -9.59473293e-01  6.95326161e+00  9.83294613e+00  7.55062073e+02\n",
      "   1.20301672e+03  1.41724606e+01  8.30828891e+02  1.08113182e+01]]\n"
     ]
    },
    {
     "data": {
      "text/plain": [
       "{'data': {'year': 2022,\n",
       "  'origin': 1,\n",
       "  'firstHand': 0,\n",
       "  'mileage': 2150,\n",
       "  'energy': 0,\n",
       "  'gearbox': 4,\n",
       "  'doors': 4,\n",
       "  'ratedHorsePower': 100,\n",
       "  'powerDIN': 190,\n",
       "  'critAir': 2,\n",
       "  'co2': 132,\n",
       "  'owners': 2.0},\n",
       " 'prediction_price': 343070.5}"
      ]
     },
     "execution_count": 13,
     "metadata": {},
     "output_type": "execute_result"
    }
   ],
   "source": [
    "data_dict = [{'year': 2022, 'origin': 1, 'firstHand': 0, 'mileage': 2150, 'energy': 0, 'gearbox': 4, 'doors': 4, 'ratedHorsePower': 100, 'powerDIN': 190, 'critAir': 2, 'co2': 132, 'owners': 2.0}]\n",
    "MLP_prediction(data_dict)"
   ]
  },
  {
   "cell_type": "code",
   "execution_count": null,
   "id": "8dcaee68-612e-4665-ab02-825cd8930dd4",
   "metadata": {},
   "outputs": [],
   "source": []
  }
 ],
 "metadata": {
  "kernelspec": {
   "display_name": "Python 3 (ipykernel)",
   "language": "python",
   "name": "python3"
  },
  "language_info": {
   "codemirror_mode": {
    "name": "ipython",
    "version": 3
   },
   "file_extension": ".py",
   "mimetype": "text/x-python",
   "name": "python",
   "nbconvert_exporter": "python",
   "pygments_lexer": "ipython3",
   "version": "3.10.12"
  }
 },
 "nbformat": 4,
 "nbformat_minor": 5
}
