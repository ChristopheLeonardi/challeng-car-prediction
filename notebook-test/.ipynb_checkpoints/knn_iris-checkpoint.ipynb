{
 "cells": [
  {
   "cell_type": "code",
   "execution_count": 1,
   "metadata": {
    "scrolled": true
   },
   "outputs": [],
   "source": [
    "import numpy as np\n",
    "import pandas as pd\n",
    "import matplotlib.pyplot as plt\n",
    "from sklearn.cluster import KMeans\n",
    "from sklearn import datasets\n",
    "from sklearn.model_selection import train_test_split\n",
    "from mlxtend.plotting import plot_decision_regions\n",
    "from pprint import pprint"
   ]
  },
  {
   "cell_type": "code",
   "execution_count": 2,
   "metadata": {
    "scrolled": false
   },
   "outputs": [
    {
     "name": "stdout",
     "output_type": "stream",
     "text": [
      ".. _iris_dataset:\n",
      "\n",
      "Iris plants dataset\n",
      "--------------------\n",
      "\n",
      "**Data Set Characteristics:**\n",
      "\n",
      "    :Number of Instances: 150 (50 in each of three classes)\n",
      "    :Number of Attributes: 4 numeric, predictive attributes and the class\n",
      "    :Attribute Information:\n",
      "        - sepal length in cm\n",
      "        - sepal width in cm\n",
      "        - petal length in cm\n",
      "        - petal width in cm\n",
      "        - class:\n",
      "                - Iris-Setosa\n",
      "                - Iris-Versicolour\n",
      "                - Iris-Virginica\n",
      "                \n",
      "    :Summary Statistics:\n",
      "\n",
      "    ============== ==== ==== ======= ===== ====================\n",
      "                    Min  Max   Mean    SD   Class Correlation\n",
      "    ============== ==== ==== ======= ===== ====================\n",
      "    sepal length:   4.3  7.9   5.84   0.83    0.7826\n",
      "    sepal width:    2.0  4.4   3.05   0.43   -0.4194\n",
      "    petal length:   1.0  6.9   3.76   1.76    0.9490  (high!)\n",
      "    petal width:    0.1  2.5   1.20   0.76    0.9565  (high!)\n",
      "    ============== ==== ==== ======= ===== ====================\n",
      "\n",
      "    :Missing Attribute Values: None\n",
      "    :Class Distribution: 33.3% for each of 3 classes.\n",
      "    :Creator: R.A. Fisher\n",
      "    :Donor: Michael Marshall (MARSHALL%PLU@io.arc.nasa.gov)\n",
      "    :Date: July, 1988\n",
      "\n",
      "The famous Iris database, first used by Sir R.A. Fisher. The dataset is taken\n",
      "from Fisher's paper. Note that it's the same as in R, but not as in the UCI\n",
      "Machine Learning Repository, which has two wrong data points.\n",
      "\n",
      "This is perhaps the best known database to be found in the\n",
      "pattern recognition literature.  Fisher's paper is a classic in the field and\n",
      "is referenced frequently to this day.  (See Duda & Hart, for example.)  The\n",
      "data set contains 3 classes of 50 instances each, where each class refers to a\n",
      "type of iris plant.  One class is linearly separable from the other 2; the\n",
      "latter are NOT linearly separable from each other.\n",
      "\n",
      ".. topic:: References\n",
      "\n",
      "   - Fisher, R.A. \"The use of multiple measurements in taxonomic problems\"\n",
      "     Annual Eugenics, 7, Part II, 179-188 (1936); also in \"Contributions to\n",
      "     Mathematical Statistics\" (John Wiley, NY, 1950).\n",
      "   - Duda, R.O., & Hart, P.E. (1973) Pattern Classification and Scene Analysis.\n",
      "     (Q327.D83) John Wiley & Sons.  ISBN 0-471-22361-1.  See page 218.\n",
      "   - Dasarathy, B.V. (1980) \"Nosing Around the Neighborhood: A New System\n",
      "     Structure and Classification Rule for Recognition in Partially Exposed\n",
      "     Environments\".  IEEE Transactions on Pattern Analysis and Machine\n",
      "     Intelligence, Vol. PAMI-2, No. 1, 67-71.\n",
      "   - Gates, G.W. (1972) \"The Reduced Nearest Neighbor Rule\".  IEEE Transactions\n",
      "     on Information Theory, May 1972, 431-433.\n",
      "   - See also: 1988 MLC Proceedings, 54-64.  Cheeseman et al\"s AUTOCLASS II\n",
      "     conceptual clustering system finds 3 classes in the data.\n",
      "   - Many, many more ...\n"
     ]
    }
   ],
   "source": [
    "iris = datasets.load_iris() # return_X_y=True, as_frame=True\n",
    "# iris\n",
    "# print(iris.keys()) \n",
    "# pprint(iris)\n",
    "\n",
    "# print(iris['data'])\n",
    "# print('- - - - - ')\n",
    "# print(iris['feature_names'])\n",
    "\n",
    "# print(iris['target'])\n",
    "# print('- - - - - ')\n",
    "# print(iris['target_names'])\n",
    "\n",
    "print(iris.DESCR)"
   ]
  },
  {
   "cell_type": "code",
   "execution_count": 10,
   "metadata": {},
   "outputs": [
    {
     "data": {
      "text/plain": [
       "array([0, 0, 0, 0, 0, 0, 0, 0, 0, 0, 0, 0, 0, 0, 0, 0, 0, 0, 0, 0, 0, 0,\n",
       "       0, 0, 0, 0, 0, 0, 0, 0, 0, 0, 0, 0, 0, 0, 0, 0, 0, 0, 0, 0, 0, 0,\n",
       "       0, 0, 0, 0, 0, 0, 1, 1, 1, 1, 1, 1, 1, 1, 1, 1, 1, 1, 1, 1, 1, 1,\n",
       "       1, 1, 1, 1, 1, 1, 1, 1, 1, 1, 1, 1, 1, 1, 1, 1, 1, 1, 1, 1, 1, 1,\n",
       "       1, 1, 1, 1, 1, 1, 1, 1, 1, 1, 1, 1, 2, 2, 2, 2, 2, 2, 2, 2, 2, 2,\n",
       "       2, 2, 2, 2, 2, 2, 2, 2, 2, 2, 2, 2, 2, 2, 2, 2, 2, 2, 2, 2, 2, 2,\n",
       "       2, 2, 2, 2, 2, 2, 2, 2, 2, 2, 2, 2, 2, 2, 2, 2, 2, 2])"
      ]
     },
     "execution_count": 10,
     "metadata": {},
     "output_type": "execute_result"
    }
   ],
   "source": [
    "X = iris.data\n",
    "X\n",
    "y = iris.target\n",
    "y\n",
    "# type(X)"
   ]
  },
  {
   "cell_type": "code",
   "execution_count": 4,
   "metadata": {},
   "outputs": [
    {
     "data": {
      "text/html": [
       "<div>\n",
       "<style scoped>\n",
       "    .dataframe tbody tr th:only-of-type {\n",
       "        vertical-align: middle;\n",
       "    }\n",
       "\n",
       "    .dataframe tbody tr th {\n",
       "        vertical-align: top;\n",
       "    }\n",
       "\n",
       "    .dataframe thead th {\n",
       "        text-align: right;\n",
       "    }\n",
       "</style>\n",
       "<table border=\"1\" class=\"dataframe\">\n",
       "  <thead>\n",
       "    <tr style=\"text-align: right;\">\n",
       "      <th></th>\n",
       "      <th>sepal length (cm)</th>\n",
       "      <th>sepal width (cm)</th>\n",
       "      <th>petal length (cm)</th>\n",
       "      <th>petal width (cm)</th>\n",
       "      <th>target</th>\n",
       "    </tr>\n",
       "  </thead>\n",
       "  <tbody>\n",
       "    <tr>\n",
       "      <th>0</th>\n",
       "      <td>5.1</td>\n",
       "      <td>3.5</td>\n",
       "      <td>1.4</td>\n",
       "      <td>0.2</td>\n",
       "      <td>setosa</td>\n",
       "    </tr>\n",
       "    <tr>\n",
       "      <th>1</th>\n",
       "      <td>4.9</td>\n",
       "      <td>3.0</td>\n",
       "      <td>1.4</td>\n",
       "      <td>0.2</td>\n",
       "      <td>setosa</td>\n",
       "    </tr>\n",
       "    <tr>\n",
       "      <th>2</th>\n",
       "      <td>4.7</td>\n",
       "      <td>3.2</td>\n",
       "      <td>1.3</td>\n",
       "      <td>0.2</td>\n",
       "      <td>setosa</td>\n",
       "    </tr>\n",
       "    <tr>\n",
       "      <th>3</th>\n",
       "      <td>4.6</td>\n",
       "      <td>3.1</td>\n",
       "      <td>1.5</td>\n",
       "      <td>0.2</td>\n",
       "      <td>setosa</td>\n",
       "    </tr>\n",
       "    <tr>\n",
       "      <th>4</th>\n",
       "      <td>5.0</td>\n",
       "      <td>3.6</td>\n",
       "      <td>1.4</td>\n",
       "      <td>0.2</td>\n",
       "      <td>setosa</td>\n",
       "    </tr>\n",
       "    <tr>\n",
       "      <th>...</th>\n",
       "      <td>...</td>\n",
       "      <td>...</td>\n",
       "      <td>...</td>\n",
       "      <td>...</td>\n",
       "      <td>...</td>\n",
       "    </tr>\n",
       "    <tr>\n",
       "      <th>145</th>\n",
       "      <td>6.7</td>\n",
       "      <td>3.0</td>\n",
       "      <td>5.2</td>\n",
       "      <td>2.3</td>\n",
       "      <td>virginica</td>\n",
       "    </tr>\n",
       "    <tr>\n",
       "      <th>146</th>\n",
       "      <td>6.3</td>\n",
       "      <td>2.5</td>\n",
       "      <td>5.0</td>\n",
       "      <td>1.9</td>\n",
       "      <td>virginica</td>\n",
       "    </tr>\n",
       "    <tr>\n",
       "      <th>147</th>\n",
       "      <td>6.5</td>\n",
       "      <td>3.0</td>\n",
       "      <td>5.2</td>\n",
       "      <td>2.0</td>\n",
       "      <td>virginica</td>\n",
       "    </tr>\n",
       "    <tr>\n",
       "      <th>148</th>\n",
       "      <td>6.2</td>\n",
       "      <td>3.4</td>\n",
       "      <td>5.4</td>\n",
       "      <td>2.3</td>\n",
       "      <td>virginica</td>\n",
       "    </tr>\n",
       "    <tr>\n",
       "      <th>149</th>\n",
       "      <td>5.9</td>\n",
       "      <td>3.0</td>\n",
       "      <td>5.1</td>\n",
       "      <td>1.8</td>\n",
       "      <td>virginica</td>\n",
       "    </tr>\n",
       "  </tbody>\n",
       "</table>\n",
       "<p>150 rows × 5 columns</p>\n",
       "</div>"
      ],
      "text/plain": [
       "     sepal length (cm)  sepal width (cm)  petal length (cm)  petal width (cm)  \\\n",
       "0                  5.1               3.5                1.4               0.2   \n",
       "1                  4.9               3.0                1.4               0.2   \n",
       "2                  4.7               3.2                1.3               0.2   \n",
       "3                  4.6               3.1                1.5               0.2   \n",
       "4                  5.0               3.6                1.4               0.2   \n",
       "..                 ...               ...                ...               ...   \n",
       "145                6.7               3.0                5.2               2.3   \n",
       "146                6.3               2.5                5.0               1.9   \n",
       "147                6.5               3.0                5.2               2.0   \n",
       "148                6.2               3.4                5.4               2.3   \n",
       "149                5.9               3.0                5.1               1.8   \n",
       "\n",
       "        target  \n",
       "0       setosa  \n",
       "1       setosa  \n",
       "2       setosa  \n",
       "3       setosa  \n",
       "4       setosa  \n",
       "..         ...  \n",
       "145  virginica  \n",
       "146  virginica  \n",
       "147  virginica  \n",
       "148  virginica  \n",
       "149  virginica  \n",
       "\n",
       "[150 rows x 5 columns]"
      ]
     },
     "execution_count": 4,
     "metadata": {},
     "output_type": "execute_result"
    }
   ],
   "source": [
    "data = pd.DataFrame(X, columns=iris.feature_names)\n",
    "data['target'] = iris.target \n",
    "data['target'] = data['target'].replace({0 : 'setosa', 1 : 'versicolor', 2 : 'virginica'})\n",
    "data"
   ]
  },
  {
   "cell_type": "code",
   "execution_count": 14,
   "metadata": {},
   "outputs": [
    {
     "data": {
      "text/plain": [
       "((150, 4), (150,))"
      ]
     },
     "execution_count": 14,
     "metadata": {},
     "output_type": "execute_result"
    }
   ],
   "source": [
    "X\n",
    "X.shape, y.shape \n",
    "# X_train"
   ]
  },
  {
   "cell_type": "code",
   "execution_count": 18,
   "metadata": {},
   "outputs": [
    {
     "data": {
      "text/plain": [
       "0    33.0\n",
       "1    33.0\n",
       "2    33.0\n",
       "dtype: float64"
      ]
     },
     "execution_count": 18,
     "metadata": {},
     "output_type": "execute_result"
    }
   ],
   "source": [
    "# Vérifier la répartition sur y (la pop générale)\n",
    "# pd.Series(y).value_counts(normalize=True)\n",
    "pd.value_counts(y, normalize=True).round(2) * 100 "
   ]
  },
  {
   "cell_type": "markdown",
   "metadata": {},
   "source": [
    "Q : Nous allons réappliquer le KMeans sur iris datasets (pour voir si l'algo réussi à déterminer correctement les 3 classes) ? "
   ]
  },
  {
   "cell_type": "code",
   "execution_count": 5,
   "metadata": {},
   "outputs": [
    {
     "data": {
      "text/plain": [
       "KMeans(n_clusters=3, random_state=42)"
      ]
     },
     "execution_count": 5,
     "metadata": {},
     "output_type": "execute_result"
    }
   ],
   "source": [
    "km = KMeans(n_clusters=3, random_state=42)\n",
    "km\n",
    "km.fit(X)"
   ]
  },
  {
   "cell_type": "code",
   "execution_count": 6,
   "metadata": {
    "scrolled": true
   },
   "outputs": [
    {
     "data": {
      "text/plain": [
       "array([1, 1, 1, 1, 1, 1, 1, 1, 1, 1, 1, 1, 1, 1, 1, 1, 1, 1, 1, 1, 1, 1,\n",
       "       1, 1, 1, 1, 1, 1, 1, 1, 1, 1, 1, 1, 1, 1, 1, 1, 1, 1, 1, 1, 1, 1,\n",
       "       1, 1, 1, 1, 1, 1, 0, 0, 2, 0, 0, 0, 0, 0, 0, 0, 0, 0, 0, 0, 0, 0,\n",
       "       0, 0, 0, 0, 0, 0, 0, 0, 0, 0, 0, 2, 0, 0, 0, 0, 0, 0, 0, 0, 0, 0,\n",
       "       0, 0, 0, 0, 0, 0, 0, 0, 0, 0, 0, 0, 2, 0, 2, 2, 2, 2, 0, 2, 2, 2,\n",
       "       2, 2, 2, 0, 0, 2, 2, 2, 2, 0, 2, 0, 2, 0, 2, 2, 0, 0, 2, 2, 2, 2,\n",
       "       2, 0, 2, 2, 2, 2, 0, 2, 2, 2, 0, 2, 2, 2, 0, 2, 2, 0])"
      ]
     },
     "execution_count": 6,
     "metadata": {},
     "output_type": "execute_result"
    }
   ],
   "source": [
    "# label_orig = '0:setosa' '1:versicolor' '2:virginica'\n",
    "km.labels_\n",
    "# {1:'setosa', 0:'versicolor', 2:'virginica'}"
   ]
  },
  {
   "cell_type": "code",
   "execution_count": 7,
   "metadata": {},
   "outputs": [
    {
     "data": {
      "text/html": [
       "<div>\n",
       "<style scoped>\n",
       "    .dataframe tbody tr th:only-of-type {\n",
       "        vertical-align: middle;\n",
       "    }\n",
       "\n",
       "    .dataframe tbody tr th {\n",
       "        vertical-align: top;\n",
       "    }\n",
       "\n",
       "    .dataframe thead th {\n",
       "        text-align: right;\n",
       "    }\n",
       "</style>\n",
       "<table border=\"1\" class=\"dataframe\">\n",
       "  <thead>\n",
       "    <tr style=\"text-align: right;\">\n",
       "      <th></th>\n",
       "      <th>sepal length (cm)</th>\n",
       "      <th>sepal width (cm)</th>\n",
       "      <th>petal length (cm)</th>\n",
       "      <th>petal width (cm)</th>\n",
       "      <th>target</th>\n",
       "      <th>cl_km</th>\n",
       "    </tr>\n",
       "  </thead>\n",
       "  <tbody>\n",
       "    <tr>\n",
       "      <th>0</th>\n",
       "      <td>5.1</td>\n",
       "      <td>3.5</td>\n",
       "      <td>1.4</td>\n",
       "      <td>0.2</td>\n",
       "      <td>setosa</td>\n",
       "      <td>setosa</td>\n",
       "    </tr>\n",
       "    <tr>\n",
       "      <th>1</th>\n",
       "      <td>4.9</td>\n",
       "      <td>3.0</td>\n",
       "      <td>1.4</td>\n",
       "      <td>0.2</td>\n",
       "      <td>setosa</td>\n",
       "      <td>setosa</td>\n",
       "    </tr>\n",
       "    <tr>\n",
       "      <th>2</th>\n",
       "      <td>4.7</td>\n",
       "      <td>3.2</td>\n",
       "      <td>1.3</td>\n",
       "      <td>0.2</td>\n",
       "      <td>setosa</td>\n",
       "      <td>setosa</td>\n",
       "    </tr>\n",
       "    <tr>\n",
       "      <th>3</th>\n",
       "      <td>4.6</td>\n",
       "      <td>3.1</td>\n",
       "      <td>1.5</td>\n",
       "      <td>0.2</td>\n",
       "      <td>setosa</td>\n",
       "      <td>setosa</td>\n",
       "    </tr>\n",
       "    <tr>\n",
       "      <th>4</th>\n",
       "      <td>5.0</td>\n",
       "      <td>3.6</td>\n",
       "      <td>1.4</td>\n",
       "      <td>0.2</td>\n",
       "      <td>setosa</td>\n",
       "      <td>setosa</td>\n",
       "    </tr>\n",
       "    <tr>\n",
       "      <th>...</th>\n",
       "      <td>...</td>\n",
       "      <td>...</td>\n",
       "      <td>...</td>\n",
       "      <td>...</td>\n",
       "      <td>...</td>\n",
       "      <td>...</td>\n",
       "    </tr>\n",
       "    <tr>\n",
       "      <th>145</th>\n",
       "      <td>6.7</td>\n",
       "      <td>3.0</td>\n",
       "      <td>5.2</td>\n",
       "      <td>2.3</td>\n",
       "      <td>virginica</td>\n",
       "      <td>virginica</td>\n",
       "    </tr>\n",
       "    <tr>\n",
       "      <th>146</th>\n",
       "      <td>6.3</td>\n",
       "      <td>2.5</td>\n",
       "      <td>5.0</td>\n",
       "      <td>1.9</td>\n",
       "      <td>virginica</td>\n",
       "      <td>versicolor</td>\n",
       "    </tr>\n",
       "    <tr>\n",
       "      <th>147</th>\n",
       "      <td>6.5</td>\n",
       "      <td>3.0</td>\n",
       "      <td>5.2</td>\n",
       "      <td>2.0</td>\n",
       "      <td>virginica</td>\n",
       "      <td>virginica</td>\n",
       "    </tr>\n",
       "    <tr>\n",
       "      <th>148</th>\n",
       "      <td>6.2</td>\n",
       "      <td>3.4</td>\n",
       "      <td>5.4</td>\n",
       "      <td>2.3</td>\n",
       "      <td>virginica</td>\n",
       "      <td>virginica</td>\n",
       "    </tr>\n",
       "    <tr>\n",
       "      <th>149</th>\n",
       "      <td>5.9</td>\n",
       "      <td>3.0</td>\n",
       "      <td>5.1</td>\n",
       "      <td>1.8</td>\n",
       "      <td>virginica</td>\n",
       "      <td>versicolor</td>\n",
       "    </tr>\n",
       "  </tbody>\n",
       "</table>\n",
       "<p>150 rows × 6 columns</p>\n",
       "</div>"
      ],
      "text/plain": [
       "     sepal length (cm)  sepal width (cm)  petal length (cm)  petal width (cm)  \\\n",
       "0                  5.1               3.5                1.4               0.2   \n",
       "1                  4.9               3.0                1.4               0.2   \n",
       "2                  4.7               3.2                1.3               0.2   \n",
       "3                  4.6               3.1                1.5               0.2   \n",
       "4                  5.0               3.6                1.4               0.2   \n",
       "..                 ...               ...                ...               ...   \n",
       "145                6.7               3.0                5.2               2.3   \n",
       "146                6.3               2.5                5.0               1.9   \n",
       "147                6.5               3.0                5.2               2.0   \n",
       "148                6.2               3.4                5.4               2.3   \n",
       "149                5.9               3.0                5.1               1.8   \n",
       "\n",
       "        target       cl_km  \n",
       "0       setosa      setosa  \n",
       "1       setosa      setosa  \n",
       "2       setosa      setosa  \n",
       "3       setosa      setosa  \n",
       "4       setosa      setosa  \n",
       "..         ...         ...  \n",
       "145  virginica   virginica  \n",
       "146  virginica  versicolor  \n",
       "147  virginica   virginica  \n",
       "148  virginica   virginica  \n",
       "149  virginica  versicolor  \n",
       "\n",
       "[150 rows x 6 columns]"
      ]
     },
     "execution_count": 7,
     "metadata": {},
     "output_type": "execute_result"
    }
   ],
   "source": [
    "data['cl_km'] = km.labels_\n",
    "data['cl_km'] = data['cl_km'].replace({1:'setosa', 0:'versicolor', 2:'virginica'})\n",
    "data"
   ]
  },
  {
   "cell_type": "code",
   "execution_count": 8,
   "metadata": {},
   "outputs": [
    {
     "data": {
      "text/html": [
       "<div>\n",
       "<style scoped>\n",
       "    .dataframe tbody tr th:only-of-type {\n",
       "        vertical-align: middle;\n",
       "    }\n",
       "\n",
       "    .dataframe tbody tr th {\n",
       "        vertical-align: top;\n",
       "    }\n",
       "\n",
       "    .dataframe thead th {\n",
       "        text-align: right;\n",
       "    }\n",
       "</style>\n",
       "<table border=\"1\" class=\"dataframe\">\n",
       "  <thead>\n",
       "    <tr style=\"text-align: right;\">\n",
       "      <th>cl_km</th>\n",
       "      <th>setosa</th>\n",
       "      <th>versicolor</th>\n",
       "      <th>virginica</th>\n",
       "    </tr>\n",
       "    <tr>\n",
       "      <th>target</th>\n",
       "      <th></th>\n",
       "      <th></th>\n",
       "      <th></th>\n",
       "    </tr>\n",
       "  </thead>\n",
       "  <tbody>\n",
       "    <tr>\n",
       "      <th>setosa</th>\n",
       "      <td>50</td>\n",
       "      <td>0</td>\n",
       "      <td>0</td>\n",
       "    </tr>\n",
       "    <tr>\n",
       "      <th>versicolor</th>\n",
       "      <td>0</td>\n",
       "      <td>48</td>\n",
       "      <td>2</td>\n",
       "    </tr>\n",
       "    <tr>\n",
       "      <th>virginica</th>\n",
       "      <td>0</td>\n",
       "      <td>14</td>\n",
       "      <td>36</td>\n",
       "    </tr>\n",
       "  </tbody>\n",
       "</table>\n",
       "</div>"
      ],
      "text/plain": [
       "cl_km       setosa  versicolor  virginica\n",
       "target                                   \n",
       "setosa          50           0          0\n",
       "versicolor       0          48          2\n",
       "virginica        0          14         36"
      ]
     },
     "execution_count": 8,
     "metadata": {},
     "output_type": "execute_result"
    }
   ],
   "source": [
    "pd.crosstab(data['target'], data['cl_km'])"
   ]
  },
  {
   "cell_type": "code",
   "execution_count": 11,
   "metadata": {},
   "outputs": [],
   "source": [
    "X_train, X_test, y_train, y_test = train_test_split(X, y, test_size=1/3, stratify=y, random_state=42)"
   ]
  },
  {
   "cell_type": "code",
   "execution_count": 12,
   "metadata": {
    "scrolled": true
   },
   "outputs": [
    {
     "data": {
      "text/html": [
       "<div>\n",
       "<style scoped>\n",
       "    .dataframe tbody tr th:only-of-type {\n",
       "        vertical-align: middle;\n",
       "    }\n",
       "\n",
       "    .dataframe tbody tr th {\n",
       "        vertical-align: top;\n",
       "    }\n",
       "\n",
       "    .dataframe thead th {\n",
       "        text-align: right;\n",
       "    }\n",
       "</style>\n",
       "<table border=\"1\" class=\"dataframe\">\n",
       "  <thead>\n",
       "    <tr style=\"text-align: right;\">\n",
       "      <th></th>\n",
       "      <th>0</th>\n",
       "      <th>1</th>\n",
       "      <th>2</th>\n",
       "      <th>3</th>\n",
       "    </tr>\n",
       "  </thead>\n",
       "  <tbody>\n",
       "    <tr>\n",
       "      <th>0</th>\n",
       "      <td>6.3</td>\n",
       "      <td>3.4</td>\n",
       "      <td>5.6</td>\n",
       "      <td>2.4</td>\n",
       "    </tr>\n",
       "    <tr>\n",
       "      <th>1</th>\n",
       "      <td>5.1</td>\n",
       "      <td>3.5</td>\n",
       "      <td>1.4</td>\n",
       "      <td>0.3</td>\n",
       "    </tr>\n",
       "    <tr>\n",
       "      <th>2</th>\n",
       "      <td>5.8</td>\n",
       "      <td>2.7</td>\n",
       "      <td>5.1</td>\n",
       "      <td>1.9</td>\n",
       "    </tr>\n",
       "    <tr>\n",
       "      <th>3</th>\n",
       "      <td>5.2</td>\n",
       "      <td>2.7</td>\n",
       "      <td>3.9</td>\n",
       "      <td>1.4</td>\n",
       "    </tr>\n",
       "    <tr>\n",
       "      <th>4</th>\n",
       "      <td>4.6</td>\n",
       "      <td>3.4</td>\n",
       "      <td>1.4</td>\n",
       "      <td>0.3</td>\n",
       "    </tr>\n",
       "    <tr>\n",
       "      <th>...</th>\n",
       "      <td>...</td>\n",
       "      <td>...</td>\n",
       "      <td>...</td>\n",
       "      <td>...</td>\n",
       "    </tr>\n",
       "    <tr>\n",
       "      <th>95</th>\n",
       "      <td>5.0</td>\n",
       "      <td>3.3</td>\n",
       "      <td>1.4</td>\n",
       "      <td>0.2</td>\n",
       "    </tr>\n",
       "    <tr>\n",
       "      <th>96</th>\n",
       "      <td>6.7</td>\n",
       "      <td>3.1</td>\n",
       "      <td>4.7</td>\n",
       "      <td>1.5</td>\n",
       "    </tr>\n",
       "    <tr>\n",
       "      <th>97</th>\n",
       "      <td>4.8</td>\n",
       "      <td>3.0</td>\n",
       "      <td>1.4</td>\n",
       "      <td>0.3</td>\n",
       "    </tr>\n",
       "    <tr>\n",
       "      <th>98</th>\n",
       "      <td>5.0</td>\n",
       "      <td>2.0</td>\n",
       "      <td>3.5</td>\n",
       "      <td>1.0</td>\n",
       "    </tr>\n",
       "    <tr>\n",
       "      <th>99</th>\n",
       "      <td>4.6</td>\n",
       "      <td>3.2</td>\n",
       "      <td>1.4</td>\n",
       "      <td>0.2</td>\n",
       "    </tr>\n",
       "  </tbody>\n",
       "</table>\n",
       "<p>100 rows × 4 columns</p>\n",
       "</div>"
      ],
      "text/plain": [
       "      0    1    2    3\n",
       "0   6.3  3.4  5.6  2.4\n",
       "1   5.1  3.5  1.4  0.3\n",
       "2   5.8  2.7  5.1  1.9\n",
       "3   5.2  2.7  3.9  1.4\n",
       "4   4.6  3.4  1.4  0.3\n",
       "..  ...  ...  ...  ...\n",
       "95  5.0  3.3  1.4  0.2\n",
       "96  6.7  3.1  4.7  1.5\n",
       "97  4.8  3.0  1.4  0.3\n",
       "98  5.0  2.0  3.5  1.0\n",
       "99  4.6  3.2  1.4  0.2\n",
       "\n",
       "[100 rows x 4 columns]"
      ]
     },
     "execution_count": 12,
     "metadata": {},
     "output_type": "execute_result"
    }
   ],
   "source": [
    "pd.DataFrame(X_train)"
   ]
  },
  {
   "cell_type": "code",
   "execution_count": 26,
   "metadata": {},
   "outputs": [
    {
     "data": {
      "text/plain": [
       "0    0.34\n",
       "2    0.33\n",
       "1    0.33\n",
       "dtype: float64"
      ]
     },
     "execution_count": 26,
     "metadata": {},
     "output_type": "execute_result"
    }
   ],
   "source": [
    "# Vérifier la répartition sur y_train\n",
    "pd.Series(y_train).value_counts(normalize=True)"
   ]
  },
  {
   "cell_type": "code",
   "execution_count": 13,
   "metadata": {},
   "outputs": [
    {
     "data": {
      "text/plain": [
       "2    0.34\n",
       "1    0.34\n",
       "0    0.32\n",
       "dtype: float64"
      ]
     },
     "execution_count": 13,
     "metadata": {},
     "output_type": "execute_result"
    }
   ],
   "source": [
    "# Vérifier la répartition sur y_test\n",
    "pd.Series(y_test).value_counts(normalize=True)"
   ]
  },
  {
   "cell_type": "code",
   "execution_count": 28,
   "metadata": {},
   "outputs": [
    {
     "name": "stdout",
     "output_type": "stream",
     "text": [
      "(100, 4)\n",
      "(100,)\n",
      "(50, 4)\n",
      "(50,)\n"
     ]
    }
   ],
   "source": [
    "print(X_train.shape) ; print(y_train.shape) ; print(X_test.shape) ; print(y_test.shape)"
   ]
  },
  {
   "cell_type": "code",
   "execution_count": 38,
   "metadata": {},
   "outputs": [
    {
     "data": {
      "text/plain": [
       "array([2, 0, 2, 1, 0, 0, 0, 2, 0, 0, 1, 0, 1, 1, 2, 2, 0, 0, 2, 0, 2, 0,\n",
       "       0, 2, 0, 1, 2, 1, 0, 1, 0, 2, 1, 2, 1, 0, 2, 0, 2, 0, 1, 1, 0, 2,\n",
       "       1, 1, 0, 2, 1, 2, 0, 1, 0, 2, 1, 1, 1, 1, 1, 1, 2, 1, 2, 2, 0, 2,\n",
       "       1, 1, 2, 0, 2, 2, 2, 0, 2, 0, 0, 2, 2, 2, 0, 1, 2, 2, 0, 1, 1, 1,\n",
       "       1, 1, 0, 2, 1, 2, 0, 0, 1, 0, 1, 0])"
      ]
     },
     "execution_count": 38,
     "metadata": {},
     "output_type": "execute_result"
    }
   ],
   "source": [
    "y_train"
   ]
  },
  {
   "cell_type": "code",
   "execution_count": 65,
   "metadata": {
    "scrolled": true
   },
   "outputs": [
    {
     "data": {
      "text/plain": [
       "array([[6.3, 3.4, 5.6, 2.4],\n",
       "       [5.1, 3.5, 1.4, 0.3],\n",
       "       [5.8, 2.7, 5.1, 1.9],\n",
       "       [5.2, 2.7, 3.9, 1.4],\n",
       "       [4.6, 3.4, 1.4, 0.3],\n",
       "       [5.2, 4.1, 1.5, 0.1],\n",
       "       [5.7, 4.4, 1.5, 0.4],\n",
       "       [6.4, 3.1, 5.5, 1.8],\n",
       "       [4.8, 3.1, 1.6, 0.2],\n",
       "       [4.9, 3.1, 1.5, 0.2],\n",
       "       [6.5, 2.8, 4.6, 1.5],\n",
       "       [4.9, 3.1, 1.5, 0.1],\n",
       "       [5.1, 2.5, 3. , 1.1],\n",
       "       [6. , 2.2, 4. , 1. ],\n",
       "       [6.4, 2.8, 5.6, 2.1],\n",
       "       [5.9, 3. , 5.1, 1.8],\n",
       "       [5.5, 4.2, 1.4, 0.2],\n",
       "       [5. , 3.6, 1.4, 0.2],\n",
       "       [7.1, 3. , 5.9, 2.1],\n",
       "       [5.1, 3.8, 1.9, 0.4],\n",
       "       [5.8, 2.8, 5.1, 2.4],\n",
       "       [5.3, 3.7, 1.5, 0.2],\n",
       "       [4.8, 3.4, 1.9, 0.2],\n",
       "       [7.9, 3.8, 6.4, 2. ],\n",
       "       [4.9, 3.6, 1.4, 0.1],\n",
       "       [6.6, 2.9, 4.6, 1.3],\n",
       "       [6.2, 2.8, 4.8, 1.8],\n",
       "       [5.5, 2.5, 4. , 1.3],\n",
       "       [4.3, 3. , 1.1, 0.1],\n",
       "       [5.5, 2.6, 4.4, 1.2],\n",
       "       [4.8, 3. , 1.4, 0.1],\n",
       "       [6.7, 3.3, 5.7, 2.5],\n",
       "       [5.5, 2.4, 3.8, 1.1],\n",
       "       [7.7, 3. , 6.1, 2.3],\n",
       "       [6.2, 2.9, 4.3, 1.3],\n",
       "       [5. , 3. , 1.6, 0.2],\n",
       "       [5.7, 2.5, 5. , 2. ],\n",
       "       [5.1, 3.8, 1.5, 0.3],\n",
       "       [6.4, 3.2, 5.3, 2.3],\n",
       "       [4.7, 3.2, 1.6, 0.2],\n",
       "       [5.6, 2.9, 3.6, 1.3],\n",
       "       [5.7, 2.6, 3.5, 1. ],\n",
       "       [5.4, 3.9, 1.3, 0.4],\n",
       "       [6.9, 3.1, 5.4, 2.1],\n",
       "       [5.5, 2.4, 3.7, 1. ],\n",
       "       [6.6, 3. , 4.4, 1.4],\n",
       "       [5.5, 3.5, 1.3, 0.2],\n",
       "       [5.8, 2.7, 5.1, 1.9],\n",
       "       [5.9, 3.2, 4.8, 1.8],\n",
       "       [7.7, 3.8, 6.7, 2.2],\n",
       "       [5. , 3.5, 1.3, 0.3],\n",
       "       [5.8, 2.6, 4. , 1.2],\n",
       "       [4.4, 2.9, 1.4, 0.2],\n",
       "       [6.3, 3.3, 6. , 2.5],\n",
       "       [6.4, 2.9, 4.3, 1.3],\n",
       "       [6.1, 2.8, 4. , 1.3],\n",
       "       [6. , 2.7, 5.1, 1.6],\n",
       "       [6.1, 2.8, 4.7, 1.2],\n",
       "       [6.3, 2.3, 4.4, 1.3],\n",
       "       [6.7, 3.1, 4.4, 1.4],\n",
       "       [5.6, 2.8, 4.9, 2. ],\n",
       "       [6.8, 2.8, 4.8, 1.4],\n",
       "       [7.4, 2.8, 6.1, 1.9],\n",
       "       [6.3, 2.7, 4.9, 1.8],\n",
       "       [5. , 3.4, 1.6, 0.4],\n",
       "       [6.5, 3.2, 5.1, 2. ],\n",
       "       [5.8, 2.7, 3.9, 1.2],\n",
       "       [6.9, 3.1, 4.9, 1.5],\n",
       "       [6.8, 3. , 5.5, 2.1],\n",
       "       [4.6, 3.1, 1.5, 0.2],\n",
       "       [7.7, 2.6, 6.9, 2.3],\n",
       "       [7.2, 3. , 5.8, 1.6],\n",
       "       [7.6, 3. , 6.6, 2.1],\n",
       "       [5.1, 3.8, 1.6, 0.2],\n",
       "       [6. , 2.2, 5. , 1.5],\n",
       "       [4.8, 3.4, 1.6, 0.2],\n",
       "       [5. , 3.5, 1.6, 0.6],\n",
       "       [7.2, 3.6, 6.1, 2.5],\n",
       "       [6.3, 2.9, 5.6, 1.8],\n",
       "       [6.3, 2.5, 5. , 1.9],\n",
       "       [5.2, 3.5, 1.5, 0.2],\n",
       "       [7. , 3.2, 4.7, 1.4],\n",
       "       [6.9, 3.2, 5.7, 2.3],\n",
       "       [7.2, 3.2, 6. , 1.8],\n",
       "       [5.4, 3.4, 1.5, 0.4],\n",
       "       [6.3, 2.5, 4.9, 1.5],\n",
       "       [6.1, 3. , 4.6, 1.4],\n",
       "       [6.2, 2.2, 4.5, 1.5],\n",
       "       [5.7, 3. , 4.2, 1.2],\n",
       "       [5.9, 3. , 4.2, 1.5],\n",
       "       [5.1, 3.5, 1.4, 0.2],\n",
       "       [6.7, 3.3, 5.7, 2.1],\n",
       "       [5.6, 2.7, 4.2, 1.3],\n",
       "       [6.8, 3.2, 5.9, 2.3],\n",
       "       [5.4, 3.9, 1.7, 0.4],\n",
       "       [5. , 3.3, 1.4, 0.2],\n",
       "       [6.7, 3.1, 4.7, 1.5],\n",
       "       [4.8, 3. , 1.4, 0.3],\n",
       "       [5. , 2. , 3.5, 1. ],\n",
       "       [4.6, 3.2, 1.4, 0.2]])"
      ]
     },
     "execution_count": 65,
     "metadata": {},
     "output_type": "execute_result"
    }
   ],
   "source": [
    "X_train"
   ]
  },
  {
   "cell_type": "code",
   "execution_count": 14,
   "metadata": {},
   "outputs": [],
   "source": [
    "# import sklearn\n",
    "from sklearn.neighbors import KNeighborsClassifier"
   ]
  },
  {
   "cell_type": "code",
   "execution_count": 15,
   "metadata": {},
   "outputs": [
    {
     "data": {
      "text/plain": [
       "KNeighborsClassifier(n_jobs=-1, n_neighbors=1)"
      ]
     },
     "execution_count": 15,
     "metadata": {},
     "output_type": "execute_result"
    }
   ],
   "source": [
    "knn1 = KNeighborsClassifier(n_neighbors=1, n_jobs=-1)\n",
    "knn1"
   ]
  },
  {
   "cell_type": "code",
   "execution_count": 16,
   "metadata": {},
   "outputs": [
    {
     "data": {
      "text/plain": [
       "KNeighborsClassifier(n_jobs=-1, n_neighbors=1)"
      ]
     },
     "execution_count": 16,
     "metadata": {},
     "output_type": "execute_result"
    }
   ],
   "source": [
    "knn1.fit(X_train, y_train)"
   ]
  },
  {
   "cell_type": "code",
   "execution_count": 18,
   "metadata": {
    "scrolled": false
   },
   "outputs": [
    {
     "data": {
      "text/plain": [
       "'euclidean'"
      ]
     },
     "execution_count": 18,
     "metadata": {},
     "output_type": "execute_result"
    }
   ],
   "source": [
    "# knn1.classes_\n",
    "knn1.effective_metric_\n",
    "# knn1.kneighbors()[0]\n",
    "# dist = pd.DataFrame(knn1.kneighbors()[0], columns=['dist'])\n",
    "# dist['neighbor']=knn1.kneighbors()[1]\n",
    "# dist\n",
    "# knn1."
   ]
  },
  {
   "cell_type": "code",
   "execution_count": 19,
   "metadata": {
    "scrolled": true
   },
   "outputs": [
    {
     "data": {
      "text/plain": [
       "array([1, 1, 0, 1, 2, 1, 1, 0, 1, 1, 0, 0, 0, 0, 0, 2, 1, 1, 2, 1, 2, 1,\n",
       "       0, 2, 0, 2, 2, 0, 0, 2, 2, 2, 0, 1, 0, 0, 2, 1, 1, 1, 1, 1, 0, 0,\n",
       "       2, 1, 2, 1, 1, 2])"
      ]
     },
     "execution_count": 19,
     "metadata": {},
     "output_type": "execute_result"
    }
   ],
   "source": [
    "y_pred = knn1.predict(X_test)\n",
    "y_pred\n",
    "# knn1.predict_proba(X_test)"
   ]
  },
  {
   "cell_type": "code",
   "execution_count": 20,
   "metadata": {
    "scrolled": true
   },
   "outputs": [
    {
     "data": {
      "text/plain": [
       "array([2, 1, 0, 1, 2, 1, 1, 0, 1, 1, 0, 0, 0, 0, 0, 2, 2, 1, 2, 1, 2, 1,\n",
       "       0, 2, 0, 2, 2, 0, 0, 2, 2, 2, 0, 1, 0, 0, 2, 1, 1, 1, 1, 1, 0, 0,\n",
       "       2, 1, 2, 2, 1, 2])"
      ]
     },
     "execution_count": 20,
     "metadata": {},
     "output_type": "execute_result"
    }
   ],
   "source": [
    "y_test"
   ]
  },
  {
   "cell_type": "code",
   "execution_count": 32,
   "metadata": {},
   "outputs": [
    {
     "data": {
      "text/plain": [
       "0.94"
      ]
     },
     "execution_count": 32,
     "metadata": {},
     "output_type": "execute_result"
    }
   ],
   "source": [
    "# Méthode rapide pr calculer la précision `accuary` du modèle\n",
    "acc = knn1.score(X_test, y_test)\n",
    "acc"
   ]
  },
  {
   "cell_type": "code",
   "execution_count": 21,
   "metadata": {},
   "outputs": [
    {
     "data": {
      "text/html": [
       "<div>\n",
       "<style scoped>\n",
       "    .dataframe tbody tr th:only-of-type {\n",
       "        vertical-align: middle;\n",
       "    }\n",
       "\n",
       "    .dataframe tbody tr th {\n",
       "        vertical-align: top;\n",
       "    }\n",
       "\n",
       "    .dataframe thead th {\n",
       "        text-align: right;\n",
       "    }\n",
       "</style>\n",
       "<table border=\"1\" class=\"dataframe\">\n",
       "  <thead>\n",
       "    <tr style=\"text-align: right;\">\n",
       "      <th></th>\n",
       "      <th>setosa</th>\n",
       "      <th>versicolor</th>\n",
       "      <th>virginica</th>\n",
       "    </tr>\n",
       "  </thead>\n",
       "  <tbody>\n",
       "    <tr>\n",
       "      <th>setosa</th>\n",
       "      <td>16</td>\n",
       "      <td>0</td>\n",
       "      <td>0</td>\n",
       "    </tr>\n",
       "    <tr>\n",
       "      <th>versicolor</th>\n",
       "      <td>0</td>\n",
       "      <td>17</td>\n",
       "      <td>0</td>\n",
       "    </tr>\n",
       "    <tr>\n",
       "      <th>virginica</th>\n",
       "      <td>0</td>\n",
       "      <td>3</td>\n",
       "      <td>14</td>\n",
       "    </tr>\n",
       "  </tbody>\n",
       "</table>\n",
       "</div>"
      ],
      "text/plain": [
       "            setosa  versicolor  virginica\n",
       "setosa          16           0          0\n",
       "versicolor       0          17          0\n",
       "virginica        0           3         14"
      ]
     },
     "execution_count": 21,
     "metadata": {},
     "output_type": "execute_result"
    }
   ],
   "source": [
    "# Méthode détaillée pr retrouver l'`accuary`\n",
    "from sklearn.metrics import confusion_matrix\n",
    "conf_mat = confusion_matrix(y_test, y_pred)\n",
    "conf_mat\n",
    "\n",
    "pd.DataFrame(conf_mat, columns=iris.target_names, index=iris.target_names)"
   ]
  },
  {
   "cell_type": "code",
   "execution_count": 22,
   "metadata": {},
   "outputs": [
    {
     "data": {
      "image/png": "[encoded data removed]",
      "text/plain": [
       "<Figure size 432x288 with 2 Axes>"
      ]
     },
     "metadata": {
      "needs_background": "light"
     },
     "output_type": "display_data"
    }
   ],
   "source": [
    "from mlxtend.plotting import plot_confusion_matrix\n",
    "\n",
    "class_names = iris.target_names\n",
    "\n",
    "fig, ax = plot_confusion_matrix(conf_mat=conf_mat,\n",
    "                                colorbar=True,\n",
    "                                show_absolute=True,\n",
    "                                show_normed=True,\n",
    "                                class_names=class_names)"
   ]
  },
  {
   "cell_type": "code",
   "execution_count": 48,
   "metadata": {},
   "outputs": [
    {
     "data": {
      "text/plain": [
       "0.94"
      ]
     },
     "execution_count": 48,
     "metadata": {},
     "output_type": "execute_result"
    }
   ],
   "source": [
    "conf_mat.diagonal().sum()/conf_mat.sum()"
   ]
  },
  {
   "cell_type": "code",
   "execution_count": 55,
   "metadata": {},
   "outputs": [
    {
     "data": {
      "text/plain": [
       "6.000000000000005"
      ]
     },
     "execution_count": 55,
     "metadata": {},
     "output_type": "execute_result"
    }
   ],
   "source": [
    "err = 1 - acc\n",
    "err * 100"
   ]
  },
  {
   "cell_type": "code",
   "execution_count": 23,
   "metadata": {},
   "outputs": [
    {
     "data": {
      "text/plain": [
       "0.94"
      ]
     },
     "execution_count": 23,
     "metadata": {},
     "output_type": "execute_result"
    }
   ],
   "source": [
    "from sklearn.metrics import accuracy_score\n",
    "accuracy_score(y_test, y_pred)"
   ]
  },
  {
   "cell_type": "code",
   "execution_count": 24,
   "metadata": {
    "scrolled": true
   },
   "outputs": [
    {
     "name": "stdout",
     "output_type": "stream",
     "text": [
      "\n",
      "\n",
      "Results : knn = 2 => err_test = 8.0\n",
      "\n",
      "Improvement of -2.0%\n",
      "\n",
      "\n",
      "\n",
      "\n",
      "Results : knn = 3 => err_test = 4.0\n",
      "\n",
      "Improvement of 2.0%\n",
      "\n",
      "\n",
      "\n",
      "\n",
      "Results : knn = 4 => err_test = 4.0\n",
      "\n",
      "Improvement of 2.0%\n",
      "\n",
      "\n",
      "\n",
      "\n",
      "Results : knn = 5 => err_test = 2.0\n",
      "\n",
      "Improvement of 4.0%\n",
      "\n",
      "\n",
      "\n",
      "\n",
      "Results : knn = 6 => err_test = 6.0\n",
      "\n",
      "Improvement of -0.0%\n",
      "\n",
      "\n",
      "\n",
      "\n",
      "Results : knn = 7 => err_test = 2.0\n",
      "\n",
      "Improvement of 4.0%\n",
      "\n",
      "\n",
      "\n",
      "\n",
      "Results : knn = 8 => err_test = 4.0\n",
      "\n",
      "Improvement of 2.0%\n",
      "\n",
      "\n",
      "\n",
      "\n",
      "Results : knn = 9 => err_test = 4.0\n",
      "\n",
      "Improvement of 2.0%\n",
      "\n",
      "\n",
      "\n",
      "\n",
      "Results : knn = 10 => err_test = 4.0\n",
      "\n",
      "Improvement of 2.0%\n",
      "\n",
      "\n",
      "\n",
      "\n",
      "Results : knn = 11 => err_test = 4.0\n",
      "\n",
      "Improvement of 2.0%\n",
      "\n",
      "\n",
      "\n",
      "\n",
      "Results : knn = 12 => err_test = 4.0\n",
      "\n",
      "Improvement of 2.0%\n",
      "\n",
      "\n",
      "\n",
      "\n",
      "Results : knn = 13 => err_test = 6.0\n",
      "\n",
      "Improvement of -0.0%\n",
      "\n",
      "\n",
      "\n",
      "\n",
      "Results : knn = 14 => err_test = 4.0\n",
      "\n",
      "Improvement of 2.0%\n",
      "\n",
      "\n",
      "\n",
      "\n",
      "Results : knn = 15 => err_test = 4.0\n",
      "\n",
      "Improvement of 2.0%\n",
      "\n",
      "\n",
      "\n",
      "\n",
      "Results : knn = 16 => err_test = 4.0\n",
      "\n",
      "Improvement of 2.0%\n",
      "\n",
      "\n",
      "\n",
      "\n",
      "Results : knn = 17 => err_test = 2.0\n",
      "\n",
      "Improvement of 4.0%\n",
      "\n",
      "\n",
      "\n",
      "\n",
      "Results : knn = 18 => err_test = 2.0\n",
      "\n",
      "Improvement of 4.0%\n",
      "\n",
      "\n",
      "\n",
      "\n",
      "Results : knn = 19 => err_test = 2.0\n",
      "\n",
      "Improvement of 4.0%\n",
      "\n",
      "\n",
      "\n",
      "\n",
      "Results : knn = 20 => err_test = 6.0\n",
      "\n",
      "Improvement of -0.0%\n",
      "\n",
      "\n",
      "\n",
      "\n",
      "Results : knn = 21 => err_test = 2.0\n",
      "\n",
      "Improvement of 4.0%\n",
      "\n",
      "\n",
      "\n",
      "\n",
      "Results : knn = 22 => err_test = 6.0\n",
      "\n",
      "Improvement of -0.0%\n",
      "\n",
      "\n",
      "\n",
      "\n",
      "Results : knn = 23 => err_test = 6.0\n",
      "\n",
      "Improvement of -0.0%\n",
      "\n",
      "\n",
      "\n",
      "\n",
      "Results : knn = 24 => err_test = 6.0\n",
      "\n",
      "Improvement of -0.0%\n",
      "\n",
      "\n",
      "\n",
      "\n",
      "Results : knn = 25 => err_test = 4.0\n",
      "\n",
      "Improvement of 2.0%\n",
      "\n",
      "\n",
      "\n",
      "\n",
      "Results : knn = 26 => err_test = 4.0\n",
      "\n",
      "Improvement of 2.0%\n",
      "\n",
      "\n",
      "\n",
      "\n",
      "Results : knn = 27 => err_test = 4.0\n",
      "\n",
      "Improvement of 2.0%\n",
      "\n",
      "\n",
      "\n",
      "\n",
      "Results : knn = 28 => err_test = 8.0\n",
      "\n",
      "Improvement of -2.0%\n",
      "\n",
      "\n",
      "\n",
      "\n",
      "Results : knn = 29 => err_test = 6.0\n",
      "\n",
      "Improvement of -0.0%\n",
      "\n",
      "\n",
      "\n",
      "\n",
      "Results : knn = 30 => err_test = 8.0\n",
      "\n",
      "Improvement of -2.0%\n",
      "\n",
      "\n",
      "\n",
      "\n",
      "Results : knn = 31 => err_test = 10.0\n",
      "\n",
      "Improvement of -4.0%\n",
      "\n",
      "\n",
      "\n",
      "\n",
      "Results : knn = 32 => err_test = 10.0\n",
      "\n",
      "Improvement of -4.0%\n",
      "\n",
      "\n",
      "\n",
      "\n",
      "Results : knn = 33 => err_test = 8.0\n",
      "\n",
      "Improvement of -2.0%\n",
      "\n",
      "\n",
      "\n",
      "\n",
      "Results : knn = 34 => err_test = 10.0\n",
      "\n",
      "Improvement of -4.0%\n",
      "\n",
      "\n",
      "\n",
      "\n",
      "Results : knn = 35 => err_test = 10.0\n",
      "\n",
      "Improvement of -4.0%\n",
      "\n",
      "\n",
      "\n",
      "\n",
      "Results : knn = 36 => err_test = 10.0\n",
      "\n",
      "Improvement of -4.0%\n",
      "\n",
      "\n",
      "\n",
      "\n",
      "Results : knn = 37 => err_test = 10.0\n",
      "\n",
      "Improvement of -4.0%\n",
      "\n",
      "\n",
      "\n",
      "\n",
      "Results : knn = 38 => err_test = 10.0\n",
      "\n",
      "Improvement of -4.0%\n",
      "\n",
      "\n",
      "\n",
      "\n",
      "Results : knn = 39 => err_test = 10.0\n",
      "\n",
      "Improvement of -4.0%\n",
      "\n",
      "\n",
      "\n",
      "\n",
      "Results : knn = 40 => err_test = 10.0\n",
      "\n",
      "Improvement of -4.0%\n",
      "\n",
      "\n",
      "\n",
      "\n",
      "Results : knn = 41 => err_test = 10.0\n",
      "\n",
      "Improvement of -4.0%\n",
      "\n",
      "\n",
      "\n",
      "\n",
      "Results : knn = 42 => err_test = 10.0\n",
      "\n",
      "Improvement of -4.0%\n",
      "\n",
      "\n",
      "\n",
      "\n",
      "Results : knn = 43 => err_test = 10.0\n",
      "\n",
      "Improvement of -4.0%\n",
      "\n",
      "\n",
      "\n",
      "\n",
      "Results : knn = 44 => err_test = 10.0\n",
      "\n",
      "Improvement of -4.0%\n",
      "\n",
      "\n",
      "\n",
      "\n",
      "Results : knn = 45 => err_test = 10.0\n",
      "\n",
      "Improvement of -4.0%\n",
      "\n",
      "\n",
      "\n",
      "\n",
      "Results : knn = 46 => err_test = 10.0\n",
      "\n",
      "Improvement of -4.0%\n",
      "\n",
      "\n",
      "\n",
      "\n",
      "Results : knn = 47 => err_test = 8.0\n",
      "\n",
      "Improvement of -2.0%\n",
      "\n",
      "\n",
      "\n",
      "\n",
      "Results : knn = 48 => err_test = 10.0\n",
      "\n",
      "Improvement of -4.0%\n",
      "\n",
      "\n",
      "\n",
      "\n",
      "Results : knn = 49 => err_test = 8.0\n",
      "\n",
      "Improvement of -2.0%\n",
      "\n",
      "\n",
      "\n",
      "\n",
      "Results : knn = 50 => err_test = 10.0\n",
      "\n",
      "Improvement of -4.0%\n",
      "\n",
      "\n",
      "\n",
      "\n",
      "Results : knn = 51 => err_test = 10.0\n",
      "\n",
      "Improvement of -4.0%\n",
      "\n",
      "\n",
      "\n",
      "\n",
      "Results : knn = 52 => err_test = 10.0\n",
      "\n",
      "Improvement of -4.0%\n",
      "\n",
      "\n",
      "\n",
      "\n",
      "Results : knn = 53 => err_test = 8.0\n",
      "\n",
      "Improvement of -2.0%\n",
      "\n",
      "\n",
      "\n",
      "\n",
      "Results : knn = 54 => err_test = 10.0\n",
      "\n",
      "Improvement of -4.0%\n",
      "\n",
      "\n",
      "\n",
      "\n",
      "Results : knn = 55 => err_test = 10.0\n",
      "\n",
      "Improvement of -4.0%\n",
      "\n",
      "\n",
      "\n",
      "\n",
      "Results : knn = 56 => err_test = 12.0\n",
      "\n",
      "Improvement of -6.0%\n",
      "\n",
      "\n",
      "\n",
      "\n",
      "Results : knn = 57 => err_test = 10.0\n",
      "\n",
      "Improvement of -4.0%\n",
      "\n",
      "\n",
      "\n",
      "\n",
      "Results : knn = 58 => err_test = 10.0\n",
      "\n",
      "Improvement of -4.0%\n",
      "\n",
      "\n",
      "\n",
      "\n",
      "Results : knn = 59 => err_test = 10.0\n",
      "\n",
      "Improvement of -4.0%\n",
      "\n",
      "\n",
      "\n",
      "\n",
      "Results : knn = 60 => err_test = 12.0\n",
      "\n",
      "Improvement of -6.0%\n",
      "\n",
      "\n",
      "\n",
      "\n",
      "Results : knn = 61 => err_test = 10.0\n",
      "\n",
      "Improvement of -4.0%\n",
      "\n",
      "\n",
      "\n",
      "\n",
      "Results : knn = 62 => err_test = 12.0\n",
      "\n",
      "Improvement of -6.0%\n",
      "\n",
      "\n",
      "\n",
      "\n",
      "Results : knn = 63 => err_test = 10.0\n",
      "\n",
      "Improvement of -4.0%\n",
      "\n",
      "\n",
      "\n",
      "\n",
      "Results : knn = 64 => err_test = 10.0\n",
      "\n",
      "Improvement of -4.0%\n",
      "\n",
      "\n",
      "\n",
      "\n",
      "Results : knn = 65 => err_test = 8.0\n",
      "\n",
      "Improvement of -2.0%\n",
      "\n",
      "\n",
      "\n",
      "\n",
      "Results : knn = 66 => err_test = 34.0\n",
      "\n",
      "Improvement of -28.0%\n",
      "\n",
      "\n",
      "\n",
      "\n",
      "Results : knn = 67 => err_test = 34.0\n",
      "\n",
      "Improvement of -28.0%\n",
      "\n",
      "\n",
      "\n",
      "\n",
      "Results : knn = 68 => err_test = 34.0\n",
      "\n",
      "Improvement of -28.0%\n",
      "\n",
      "\n",
      "\n",
      "\n",
      "Results : knn = 69 => err_test = 34.0\n",
      "\n",
      "Improvement of -28.0%\n",
      "\n",
      "\n",
      "\n",
      "\n",
      "Results : knn = 70 => err_test = 34.0\n",
      "\n",
      "Improvement of -28.0%\n",
      "\n",
      "\n",
      "\n",
      "\n",
      "Results : knn = 71 => err_test = 34.0\n",
      "\n",
      "Improvement of -28.0%\n",
      "\n",
      "\n",
      "\n",
      "\n",
      "Results : knn = 72 => err_test = 36.0\n",
      "\n",
      "Improvement of -30.0%\n",
      "\n",
      "\n",
      "\n",
      "\n",
      "Results : knn = 73 => err_test = 36.0\n",
      "\n",
      "Improvement of -30.0%\n",
      "\n",
      "\n",
      "\n",
      "\n",
      "Results : knn = 74 => err_test = 36.0\n",
      "\n",
      "Improvement of -30.0%\n",
      "\n",
      "\n",
      "\n",
      "\n",
      "Results : knn = 75 => err_test = 34.0\n",
      "\n",
      "Improvement of -28.0%\n",
      "\n",
      "\n",
      "\n",
      "\n",
      "Results : knn = 76 => err_test = 34.0\n",
      "\n",
      "Improvement of -28.0%\n",
      "\n",
      "\n",
      "\n",
      "\n",
      "Results : knn = 77 => err_test = 36.0\n",
      "\n",
      "Improvement of -30.0%\n",
      "\n",
      "\n",
      "\n",
      "\n",
      "Results : knn = 78 => err_test = 36.0\n",
      "\n",
      "Improvement of -30.0%\n",
      "\n",
      "\n",
      "\n",
      "\n",
      "Results : knn = 79 => err_test = 38.0\n",
      "\n",
      "Improvement of -32.0%\n",
      "\n",
      "\n",
      "\n",
      "\n",
      "Results : knn = 80 => err_test = 38.0\n",
      "\n",
      "Improvement of -32.0%\n",
      "\n",
      "\n",
      "\n",
      "\n",
      "Results : knn = 81 => err_test = 38.0\n",
      "\n",
      "Improvement of -32.0%\n",
      "\n",
      "\n",
      "\n",
      "\n",
      "Results : knn = 82 => err_test = 38.0\n",
      "\n",
      "Improvement of -32.0%\n",
      "\n",
      "\n",
      "\n",
      "\n",
      "Results : knn = 83 => err_test = 38.0\n",
      "\n",
      "Improvement of -32.0%\n",
      "\n",
      "\n",
      "\n",
      "\n",
      "Results : knn = 84 => err_test = 38.0\n",
      "\n",
      "Improvement of -32.0%\n",
      "\n",
      "\n",
      "\n",
      "\n",
      "Results : knn = 85 => err_test = 38.0\n",
      "\n",
      "Improvement of -32.0%\n",
      "\n",
      "\n",
      "\n",
      "\n",
      "Results : knn = 86 => err_test = 38.0\n",
      "\n",
      "Improvement of -32.0%\n",
      "\n",
      "\n",
      "\n",
      "\n",
      "Results : knn = 87 => err_test = 38.0\n",
      "\n",
      "Improvement of -32.0%\n",
      "\n",
      "\n",
      "\n",
      "\n",
      "Results : knn = 88 => err_test = 38.0\n",
      "\n",
      "Improvement of -32.0%\n",
      "\n",
      "\n",
      "\n",
      "\n",
      "Results : knn = 89 => err_test = 38.0\n",
      "\n",
      "Improvement of -32.0%\n",
      "\n",
      "\n",
      "\n",
      "\n",
      "Results : knn = 90 => err_test = 38.0\n",
      "\n",
      "Improvement of -32.0%\n",
      "\n",
      "\n",
      "\n",
      "\n",
      "Results : knn = 91 => err_test = 38.0\n",
      "\n",
      "Improvement of -32.0%\n",
      "\n",
      "\n",
      "\n",
      "\n",
      "Results : knn = 92 => err_test = 38.0\n",
      "\n",
      "Improvement of -32.0%\n",
      "\n",
      "\n",
      "\n",
      "\n",
      "Results : knn = 93 => err_test = 40.0\n",
      "\n",
      "Improvement of -34.0%\n",
      "\n",
      "\n",
      "\n",
      "\n",
      "Results : knn = 94 => err_test = 40.0\n",
      "\n",
      "Improvement of -34.0%\n",
      "\n",
      "\n",
      "\n",
      "\n",
      "Results : knn = 95 => err_test = 48.0\n",
      "\n",
      "Improvement of -42.0%\n",
      "\n",
      "\n",
      "\n",
      "\n",
      "Results : knn = 96 => err_test = 50.0\n",
      "\n",
      "Improvement of -44.0%\n",
      "\n",
      "\n",
      "\n",
      "\n",
      "Results : knn = 97 => err_test = 50.0\n",
      "\n",
      "Improvement of -44.0%\n",
      "\n",
      "\n",
      "\n",
      "\n",
      "Results : knn = 98 => err_test = 50.0\n",
      "\n",
      "Improvement of -44.0%\n",
      "\n",
      "\n",
      "\n",
      "\n",
      "Results : knn = 99 => err_test = 68.0\n",
      "\n",
      "Improvement of -62.0%\n",
      "\n",
      "\n",
      "\n",
      "\n",
      "Results : knn = 100 => err_test = 68.0\n",
      "\n",
      "Improvement of -62.0%\n",
      "\n",
      "\n"
     ]
    }
   ],
   "source": [
    "# Boucle à améliorer => k range de nb impair (pr les besoins du vote à majorité)\n",
    "err_default = 6\n",
    "neighbors = range(2, 101)\n",
    "errors = []\n",
    "\n",
    "for k in neighbors:\n",
    "\tknn = KNeighborsClassifier(n_neighbors=k, n_jobs=-1) \t# \n",
    "\tknn.fit(X_train, y_train)\n",
    "\terr = round((1.0 - knn.score(X_test, y_test)) * 100, 3)\n",
    "\terrors.append(err)\n",
    "\tprint(f\"\\n\\nResults : knn = {knn.n_neighbors} => err_test = {err}\\n\")\n",
    "\tprint(f'Improvement of {-(err - err_default)}%\\n\\n')"
   ]
  },
  {
   "cell_type": "code",
   "execution_count": 25,
   "metadata": {
    "scrolled": true
   },
   "outputs": [
    {
     "data": {
      "text/plain": [
       "Text(0.5, 0, 'neighbors')"
      ]
     },
     "execution_count": 25,
     "metadata": {},
     "output_type": "execute_result"
    },
    {
     "data": {
      "image/png": "[encoded data removed]",
      "text/plain": [
       "<Figure size 432x288 with 1 Axes>"
      ]
     },
     "metadata": {
      "needs_background": "light"
     },
     "output_type": "display_data"
    }
   ],
   "source": [
    "from matplotlib import pyplot as plt\n",
    "\n",
    "plt.plot(neighbors, errors, 'b')\n",
    "plt.xlabel('neighbors')"
   ]
  },
  {
   "cell_type": "code",
   "execution_count": 26,
   "metadata": {},
   "outputs": [
    {
     "data": {
      "text/html": [
       "<div>\n",
       "<style scoped>\n",
       "    .dataframe tbody tr th:only-of-type {\n",
       "        vertical-align: middle;\n",
       "    }\n",
       "\n",
       "    .dataframe tbody tr th {\n",
       "        vertical-align: top;\n",
       "    }\n",
       "\n",
       "    .dataframe thead th {\n",
       "        text-align: right;\n",
       "    }\n",
       "</style>\n",
       "<table border=\"1\" class=\"dataframe\">\n",
       "  <thead>\n",
       "    <tr style=\"text-align: right;\">\n",
       "      <th></th>\n",
       "      <th>neighbors</th>\n",
       "      <th>errors</th>\n",
       "    </tr>\n",
       "  </thead>\n",
       "  <tbody>\n",
       "    <tr>\n",
       "      <th>19</th>\n",
       "      <td>21</td>\n",
       "      <td>2.0</td>\n",
       "    </tr>\n",
       "    <tr>\n",
       "      <th>17</th>\n",
       "      <td>19</td>\n",
       "      <td>2.0</td>\n",
       "    </tr>\n",
       "    <tr>\n",
       "      <th>16</th>\n",
       "      <td>18</td>\n",
       "      <td>2.0</td>\n",
       "    </tr>\n",
       "    <tr>\n",
       "      <th>15</th>\n",
       "      <td>17</td>\n",
       "      <td>2.0</td>\n",
       "    </tr>\n",
       "    <tr>\n",
       "      <th>5</th>\n",
       "      <td>7</td>\n",
       "      <td>2.0</td>\n",
       "    </tr>\n",
       "    <tr>\n",
       "      <th>3</th>\n",
       "      <td>5</td>\n",
       "      <td>2.0</td>\n",
       "    </tr>\n",
       "    <tr>\n",
       "      <th>25</th>\n",
       "      <td>27</td>\n",
       "      <td>4.0</td>\n",
       "    </tr>\n",
       "    <tr>\n",
       "      <th>24</th>\n",
       "      <td>26</td>\n",
       "      <td>4.0</td>\n",
       "    </tr>\n",
       "    <tr>\n",
       "      <th>23</th>\n",
       "      <td>25</td>\n",
       "      <td>4.0</td>\n",
       "    </tr>\n",
       "    <tr>\n",
       "      <th>14</th>\n",
       "      <td>16</td>\n",
       "      <td>4.0</td>\n",
       "    </tr>\n",
       "    <tr>\n",
       "      <th>13</th>\n",
       "      <td>15</td>\n",
       "      <td>4.0</td>\n",
       "    </tr>\n",
       "    <tr>\n",
       "      <th>12</th>\n",
       "      <td>14</td>\n",
       "      <td>4.0</td>\n",
       "    </tr>\n",
       "    <tr>\n",
       "      <th>10</th>\n",
       "      <td>12</td>\n",
       "      <td>4.0</td>\n",
       "    </tr>\n",
       "    <tr>\n",
       "      <th>9</th>\n",
       "      <td>11</td>\n",
       "      <td>4.0</td>\n",
       "    </tr>\n",
       "    <tr>\n",
       "      <th>8</th>\n",
       "      <td>10</td>\n",
       "      <td>4.0</td>\n",
       "    </tr>\n",
       "  </tbody>\n",
       "</table>\n",
       "</div>"
      ],
      "text/plain": [
       "    neighbors  errors\n",
       "19         21     2.0\n",
       "17         19     2.0\n",
       "16         18     2.0\n",
       "15         17     2.0\n",
       "5           7     2.0\n",
       "3           5     2.0\n",
       "25         27     4.0\n",
       "24         26     4.0\n",
       "23         25     4.0\n",
       "14         16     4.0\n",
       "13         15     4.0\n",
       "12         14     4.0\n",
       "10         12     4.0\n",
       "9          11     4.0\n",
       "8          10     4.0"
      ]
     },
     "execution_count": 26,
     "metadata": {},
     "output_type": "execute_result"
    }
   ],
   "source": [
    "df = pd.DataFrame({\"neighbors\" : neighbors, \"errors\" : errors})\n",
    "df = df.sort_values('errors', ascending=True)\n",
    "df = df.sort_values(['errors', 'neighbors'], ascending=[True, False])\n",
    "df.head(15)\n",
    "# df"
   ]
  },
  {
   "cell_type": "code",
   "execution_count": 96,
   "metadata": {},
   "outputs": [
    {
     "data": {
      "image/png": "[encoded data removed]",
      "text/plain": [
       "<Figure size 432x288 with 1 Axes>"
      ]
     },
     "metadata": {
      "needs_background": "light"
     },
     "output_type": "display_data"
    }
   ],
   "source": [
    "# La question : Dessiner le nuage de points en plaçant dessus les points \n",
    "# malclassifiés en rouge!\n",
    "\n",
    "plt.figure()\n",
    "plt.scatter(X[:, 0], X[:, 1], c = y)\n",
    "# indice des points mal classés par le clf\n",
    "miss_class = np.where(y_test != y_pred)\n",
    "miss_class = miss_class[0].tolist()\n",
    "# les points mal classés (en rouge)\n",
    "for idx in miss_class : \n",
    "    plt.scatter(X_test[idx:, 0], X_test[idx:, 1], c = 'red')"
   ]
  },
  {
   "cell_type": "markdown",
   "metadata": {},
   "source": [
    "# Decision Regions "
   ]
  },
  {
   "cell_type": "code",
   "execution_count": 55,
   "metadata": {},
   "outputs": [
    {
     "data": {
      "text/plain": [
       "KNeighborsClassifier(n_jobs=-1, n_neighbors=1)"
      ]
     },
     "execution_count": 55,
     "metadata": {},
     "output_type": "execute_result"
    }
   ],
   "source": [
    "# Construire le classifier\n",
    "knn1 = KNeighborsClassifier(n_neighbors=1, n_jobs=-1)\n",
    "knn1.fit(X_train[:, [0, 1]], y_train)"
   ]
  },
  {
   "cell_type": "code",
   "execution_count": 56,
   "metadata": {
    "scrolled": true
   },
   "outputs": [
    {
     "data": {
      "text/plain": [
       "<AxesSubplot:>"
      ]
     },
     "execution_count": 56,
     "metadata": {},
     "output_type": "execute_result"
    },
    {
     "data": {
      "image/png": "[encoded data removed]",
      "text/plain": [
       "<Figure size 432x288 with 1 Axes>"
      ]
     },
     "metadata": {
      "needs_background": "light"
     },
     "output_type": "display_data"
    }
   ],
   "source": [
    "# plot de la Decision Region\n",
    "plot_decision_regions(X[:, [0, 1]], y, clf=knn1, legend=2)"
   ]
  },
  {
   "cell_type": "code",
   "execution_count": 57,
   "metadata": {},
   "outputs": [
    {
     "data": {
      "text/plain": [
       "<AxesSubplot:>"
      ]
     },
     "execution_count": 57,
     "metadata": {},
     "output_type": "execute_result"
    },
    {
     "data": {
      "image/png": "[encoded data removed]",
      "text/plain": [
       "<Figure size 432x288 with 1 Axes>"
      ]
     },
     "metadata": {
      "needs_background": "light"
     },
     "output_type": "display_data"
    }
   ],
   "source": [
    "# On cherche à comparer les Decision Regions avec 1 Vs 100 voisions ? \n",
    "knn90=KNeighborsClassifier(n_neighbors=90, n_jobs=-1)\n",
    "knn90.fit(X_train[:, [0, 1]], y_train)\n",
    "plot_decision_regions(X[:, [0, 1]], y, clf=knn90, legend=2)"
   ]
  },
  {
   "cell_type": "code",
   "execution_count": 63,
   "metadata": {},
   "outputs": [
    {
     "data": {
      "text/plain": [
       "<AxesSubplot:>"
      ]
     },
     "execution_count": 63,
     "metadata": {},
     "output_type": "execute_result"
    },
    {
     "data": {
      "image/png": "[encoded data removed]",
      "text/plain": [
       "<Figure size 432x288 with 1 Axes>"
      ]
     },
     "metadata": {
      "needs_background": "light"
     },
     "output_type": "display_data"
    }
   ],
   "source": [
    "# avec k=21, ns sommes avec acc=2% (le meilleur score)\n",
    "knn21=KNeighborsClassifier(n_neighbors=21, n_jobs=-1)\n",
    "knn21.fit(X_train[:, [0, 1]], y_train)\n",
    "plot_decision_regions(X[:, [0, 1]], y, clf=knn21, legend=2)"
   ]
  }
 ],
 "metadata": {
  "interpreter": {
   "hash": "da03a2949bd7f7e1e2f8a272eaea5cb5c8effd8622bbe3cc4e7f8a7d557202f6"
  },
  "kernelspec": {
   "display_name": "Python 3 (ipykernel)",
   "language": "python",
   "name": "python3"
  },
  "language_info": {
   "codemirror_mode": {
    "name": "ipython",
    "version": 3
   },
   "file_extension": ".py",
   "mimetype": "text/x-python",
   "name": "python",
   "nbconvert_exporter": "python",
   "pygments_lexer": "ipython3",
   "version": "3.10.4"
  }
 },
 "nbformat": 4,
 "nbformat_minor": 2
}
